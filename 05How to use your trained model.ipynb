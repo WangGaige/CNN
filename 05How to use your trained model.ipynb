{
 "cells": [
  {
   "cell_type": "code",
   "execution_count": 1,
   "metadata": {},
   "outputs": [
    {
     "name": "stdout",
     "output_type": "stream",
     "text": [
      "3-conv-64-nodes-0-dense-1594054543\n",
      "Epoch 1/10\n",
      "  2/546 [..............................] - ETA: 2:12 - loss: 0.6958 - accuracy: 0.4844WARNING:tensorflow:Method (on_train_batch_end) is slow compared to the batch update (0.287733). Check your callbacks.\n",
      "WARNING:tensorflow:Method (on_train_batch_end) is slow compared to the batch update (0.124672). Check your callbacks.\n",
      "546/546 [==============================] - 24s 44ms/step - loss: 0.6522 - accuracy: 0.6082 - val_loss: 0.5968 - val_accuracy: 0.6871\n",
      "Epoch 2/10\n",
      "546/546 [==============================] - 22s 41ms/step - loss: 0.5524 - accuracy: 0.7192 - val_loss: 0.5019 - val_accuracy: 0.7626\n",
      "Epoch 3/10\n",
      "546/546 [==============================] - 20s 37ms/step - loss: 0.4916 - accuracy: 0.7623 - val_loss: 0.4769 - val_accuracy: 0.7719\n",
      "Epoch 4/10\n",
      "546/546 [==============================] - 24s 45ms/step - loss: 0.4550 - accuracy: 0.7859 - val_loss: 0.4648 - val_accuracy: 0.7854\n",
      "Epoch 5/10\n",
      "546/546 [==============================] - 24s 44ms/step - loss: 0.4203 - accuracy: 0.8106 - val_loss: 0.4443 - val_accuracy: 0.7968\n",
      "Epoch 6/10\n",
      "546/546 [==============================] - 21s 39ms/step - loss: 0.3865 - accuracy: 0.8267 - val_loss: 0.4347 - val_accuracy: 0.7973\n",
      "Epoch 7/10\n",
      "546/546 [==============================] - 22s 40ms/step - loss: 0.3592 - accuracy: 0.8399 - val_loss: 0.4127 - val_accuracy: 0.8099\n",
      "Epoch 8/10\n",
      "546/546 [==============================] - 24s 44ms/step - loss: 0.3362 - accuracy: 0.8552 - val_loss: 0.4671 - val_accuracy: 0.7882\n",
      "Epoch 9/10\n",
      "546/546 [==============================] - 23s 43ms/step - loss: 0.3078 - accuracy: 0.8690 - val_loss: 0.4335 - val_accuracy: 0.8048\n",
      "Epoch 10/10\n",
      "546/546 [==============================] - 25s 45ms/step - loss: 0.2838 - accuracy: 0.8788 - val_loss: 0.4083 - val_accuracy: 0.8189\n",
      "WARNING:tensorflow:From C:\\ProgramData\\Anaconda3\\envs\\tesnsorflow\\lib\\site-packages\\tensorflow\\python\\ops\\resource_variable_ops.py:1817: calling BaseResourceVariable.__init__ (from tensorflow.python.ops.resource_variable_ops) with constraint is deprecated and will be removed in a future version.\n",
      "Instructions for updating:\n",
      "If using Keras pass *_constraint arguments to layers.\n",
      "INFO:tensorflow:Assets written to: 64x3-CNN.model\\assets\n"
     ]
    }
   ],
   "source": [
    "#Save a model\n",
    "import numpy as np\n",
    "\n",
    "from tensorflow.keras.models import Sequential\n",
    "from tensorflow.keras.layers import Dense, Dropout, Activation, Flatten\n",
    "from tensorflow.keras.layers import Conv2D, MaxPooling2D\n",
    "# more info on callbakcs: https://keras.io/callbacks/ model saver is cool too.\n",
    "from tensorflow.keras.callbacks import TensorBoard\n",
    "import pickle\n",
    "import time\n",
    "\n",
    "pickle_in = open(\"X.picle\",\"rb\")\n",
    "X = pickle.load(pickle_in)\n",
    "\n",
    "pickle_in = open(\"y.picle\",\"rb\")\n",
    "y = pickle.load(pickle_in)\n",
    "y=np.array(y)\n",
    "X = X/255.0\n",
    "\n",
    "dense_layers = [0]\n",
    "layer_sizes = [64]\n",
    "conv_layers = [3]\n",
    "\n",
    "for dense_layer in dense_layers:\n",
    "    for layer_size in layer_sizes:\n",
    "        for conv_layer in conv_layers:\n",
    "            NAME = \"{}-conv-{}-nodes-{}-dense-{}\".format(conv_layer, layer_size, dense_layer, int(time.time()))\n",
    "            print(NAME)\n",
    "\n",
    "            model = Sequential()\n",
    "\n",
    "            model.add(Conv2D(layer_size, (3, 3), input_shape=X.shape[1:]))\n",
    "            model.add(Activation('relu'))\n",
    "            model.add(MaxPooling2D(pool_size=(2, 2)))\n",
    "\n",
    "            for l in range(conv_layer-1):\n",
    "                model.add(Conv2D(layer_size, (3, 3)))\n",
    "                model.add(Activation('relu'))\n",
    "                model.add(MaxPooling2D(pool_size=(2, 2)))\n",
    "\n",
    "            model.add(Flatten())\n",
    "\n",
    "            for _ in range(dense_layer):\n",
    "                model.add(Dense(layer_size))\n",
    "                model.add(Activation('relu'))\n",
    "\n",
    "            model.add(Dense(1))\n",
    "            model.add(Activation('sigmoid'))\n",
    "\n",
    "            tensorboard = TensorBoard(log_dir=\"logs/{}\".format(NAME))\n",
    "\n",
    "            model.compile(loss='binary_crossentropy',\n",
    "                          optimizer='adam',\n",
    "                          metrics=['accuracy'],\n",
    "                          )\n",
    "\n",
    "            model.fit(X, y,\n",
    "                      batch_size=32,\n",
    "                      epochs=10,\n",
    "                      validation_split=0.3,\n",
    "                      callbacks=[tensorboard])\n",
    "\n",
    "model.save('64x3-CNN.model')"
   ]
  },
  {
   "cell_type": "code",
   "execution_count": 5,
   "metadata": {},
   "outputs": [
    {
     "name": "stdout",
     "output_type": "stream",
     "text": [
      "[[0.]]\n",
      "Dog\n"
     ]
    }
   ],
   "source": [
    "#Make prediction\n",
    "import cv2\n",
    "import tensorflow as tf\n",
    "\n",
    "CATEGORIES = [\"Dog\", \"Cat\"]\n",
    "\n",
    "\n",
    "def prepare(filepath):\n",
    "    IMG_SIZE = 50  # 50 in txt-based\n",
    "    img_array = cv2.imread(filepath, cv2.IMREAD_GRAYSCALE)\n",
    "    new_array = cv2.resize(img_array, (IMG_SIZE, IMG_SIZE))\n",
    "    return new_array.reshape(-1, IMG_SIZE, IMG_SIZE, 1)\n",
    "\n",
    "\n",
    "model = tf.keras.models.load_model(\"64x3-CNN.model\")\n",
    "\n",
    "prediction = model.predict([prepare('CAT.jpg')])\n",
    "print(prediction)  # will be a list in a list.\n",
    "print(CATEGORIES[int(prediction[0][0])])"
   ]
  },
  {
   "cell_type": "code",
   "execution_count": null,
   "metadata": {},
   "outputs": [],
   "source": []
  }
 ],
 "metadata": {
  "kernelspec": {
   "display_name": "Python [conda env:tesnsorflow]",
   "language": "python",
   "name": "conda-env-tesnsorflow-py"
  },
  "language_info": {
   "codemirror_mode": {
    "name": "ipython",
    "version": 3
   },
   "file_extension": ".py",
   "mimetype": "text/x-python",
   "name": "python",
   "nbconvert_exporter": "python",
   "pygments_lexer": "ipython3",
   "version": "3.6.10"
  }
 },
 "nbformat": 4,
 "nbformat_minor": 4
}
