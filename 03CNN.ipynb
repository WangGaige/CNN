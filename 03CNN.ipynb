{
 "cells": [
  {
   "cell_type": "code",
   "execution_count": 7,
   "metadata": {},
   "outputs": [],
   "source": [
    "import tensorflow as tf\n",
    "from tensorflow.keras.models import Sequential\n",
    "from tensorflow.keras.layers import Dense,Dropout,Activation,Flatten,Conv2D,MaxPooling2D\n",
    "import pickle\n",
    "import numpy as np\n",
    "import time"
   ]
  },
  {
   "cell_type": "code",
   "execution_count": 8,
   "metadata": {},
   "outputs": [],
   "source": [
    "from tensorflow.keras.callbacks import TensorBoard\n",
    "#give your model a name\n",
    "NAME=\"CATS VS DOGS CNN-{}\".format(int(time.time()))\n",
    "tensorboard=TensorBoard(log_dir='logs/{}'.format(NAME))"
   ]
  },
  {
   "cell_type": "code",
   "execution_count": 9,
   "metadata": {},
   "outputs": [],
   "source": [
    "x=pickle.load(open(\"X.picle\",\"rb\"))\n",
    "y=pickle.load(open(\"y.picle\",\"rb\"))\n",
    "\n",
    "X=x/255\n",
    "y=np.array(y)"
   ]
  },
  {
   "cell_type": "code",
   "execution_count": 10,
   "metadata": {
    "scrolled": false
   },
   "outputs": [
    {
     "name": "stdout",
     "output_type": "stream",
     "text": [
      "Model: \"sequential_1\"\n",
      "_________________________________________________________________\n",
      "Layer (type)                 Output Shape              Param #   \n",
      "=================================================================\n",
      "conv2d_2 (Conv2D)            (None, 48, 48, 64)        640       \n",
      "_________________________________________________________________\n",
      "activation_3 (Activation)    (None, 48, 48, 64)        0         \n",
      "_________________________________________________________________\n",
      "max_pooling2d_2 (MaxPooling2 (None, 24, 24, 64)        0         \n",
      "_________________________________________________________________\n",
      "conv2d_3 (Conv2D)            (None, 22, 22, 64)        36928     \n",
      "_________________________________________________________________\n",
      "activation_4 (Activation)    (None, 22, 22, 64)        0         \n",
      "_________________________________________________________________\n",
      "max_pooling2d_3 (MaxPooling2 (None, 11, 11, 64)        0         \n",
      "_________________________________________________________________\n",
      "flatten_1 (Flatten)          (None, 7744)              0         \n",
      "_________________________________________________________________\n",
      "dense_2 (Dense)              (None, 64)                495680    \n",
      "_________________________________________________________________\n",
      "dense_3 (Dense)              (None, 1)                 65        \n",
      "_________________________________________________________________\n",
      "activation_5 (Activation)    (None, 1)                 0         \n",
      "=================================================================\n",
      "Total params: 533,313\n",
      "Trainable params: 533,313\n",
      "Non-trainable params: 0\n",
      "_________________________________________________________________\n"
     ]
    }
   ],
   "source": [
    "model=Sequential()\n",
    "model.add(Conv2D(64,(3,3),input_shape=X.shape[1:]))\n",
    "\n",
    "model.add(Activation(\"relu\"))\n",
    "model.add(MaxPooling2D(pool_size=(2,2)))\n",
    "\n",
    "model.add(Conv2D(64,(3,3)))\n",
    "model.add(Activation(\"relu\"))\n",
    "model.add(MaxPooling2D(pool_size=(2,2)))\n",
    "\n",
    "model.add(Flatten())\n",
    "model.add(Dense(64))\n",
    "\n",
    "model.add(Dense(1))\n",
    "model.add(Activation('sigmoid'))\n",
    "\n",
    "model.compile(loss=\"binary_crossentropy\",optimizer=\"adam\",metrics=['accuracy'])\n",
    "model.summary()"
   ]
  },
  {
   "cell_type": "code",
   "execution_count": 11,
   "metadata": {},
   "outputs": [
    {
     "name": "stdout",
     "output_type": "stream",
     "text": [
      "Epoch 1/10\n",
      "702/702 [==============================] - 11s 16ms/step - loss: 0.6183 - accuracy: 0.6574 - val_loss: 0.5298 - val_accuracy: 0.7435\n",
      "Epoch 2/10\n",
      "702/702 [==============================] - 11s 15ms/step - loss: 0.5261 - accuracy: 0.7425 - val_loss: 0.5563 - val_accuracy: 0.7287\n",
      "Epoch 3/10\n",
      "702/702 [==============================] - 11s 15ms/step - loss: 0.4954 - accuracy: 0.7636 - val_loss: 0.4744 - val_accuracy: 0.7792\n",
      "Epoch 4/10\n",
      "702/702 [==============================] - 12s 17ms/step - loss: 0.4665 - accuracy: 0.7809 - val_loss: 0.4609 - val_accuracy: 0.7876\n",
      "Epoch 5/10\n",
      "702/702 [==============================] - 20s 29ms/step - loss: 0.4488 - accuracy: 0.7925 - val_loss: 0.4968 - val_accuracy: 0.7719\n",
      "Epoch 6/10\n",
      "702/702 [==============================] - 22s 31ms/step - loss: 0.4230 - accuracy: 0.8058 - val_loss: 0.4941 - val_accuracy: 0.7563\n",
      "Epoch 7/10\n",
      "702/702 [==============================] - 59s 84ms/step - loss: 0.4043 - accuracy: 0.8173 - val_loss: 0.4430 - val_accuracy: 0.8000\n",
      "Epoch 8/10\n",
      "702/702 [==============================] - 29s 41ms/step - loss: 0.3911 - accuracy: 0.8227 - val_loss: 0.4413 - val_accuracy: 0.7980\n",
      "Epoch 9/10\n",
      "702/702 [==============================] - 17s 24ms/step - loss: 0.3776 - accuracy: 0.8307 - val_loss: 0.4529 - val_accuracy: 0.7936\n",
      "Epoch 10/10\n",
      "702/702 [==============================] - 18s 26ms/step - loss: 0.3630 - accuracy: 0.8397 - val_loss: 0.4323 - val_accuracy: 0.8048\n"
     ]
    },
    {
     "data": {
      "text/plain": [
       "<tensorflow.python.keras.callbacks.History at 0x1f711679470>"
      ]
     },
     "execution_count": 11,
     "metadata": {},
     "output_type": "execute_result"
    }
   ],
   "source": [
    "model.fit(X,y,batch_size=32,epochs=10,validation_split=0.1,callbacks=[tensorboard])"
   ]
  },
  {
   "cell_type": "code",
   "execution_count": null,
   "metadata": {},
   "outputs": [],
   "source": []
  },
  {
   "cell_type": "code",
   "execution_count": null,
   "metadata": {},
   "outputs": [],
   "source": []
  }
 ],
 "metadata": {
  "kernelspec": {
   "display_name": "Python [conda env:tesnsorflow]",
   "language": "python",
   "name": "conda-env-tesnsorflow-py"
  },
  "language_info": {
   "codemirror_mode": {
    "name": "ipython",
    "version": 3
   },
   "file_extension": ".py",
   "mimetype": "text/x-python",
   "name": "python",
   "nbconvert_exporter": "python",
   "pygments_lexer": "ipython3",
   "version": "3.6.10"
  }
 },
 "nbformat": 4,
 "nbformat_minor": 4
}
